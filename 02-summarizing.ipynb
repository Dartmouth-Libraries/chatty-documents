{
 "cells": [
  {
   "cell_type": "markdown",
   "metadata": {},
   "source": [
    "# Summarizing texts\n"
   ]
  },
  {
   "cell_type": "code",
   "execution_count": 6,
   "metadata": {},
   "outputs": [
    {
     "data": {
      "text/plain": [
       "True"
      ]
     },
     "execution_count": 6,
     "metadata": {},
     "output_type": "execute_result"
    }
   ],
   "source": [
    "from dotenv import load_dotenv\n",
    "import os\n",
    "\n",
    "load_dotenv(\"secrets.env\")\n",
    "\n",
    "os.getenv(\"OPENAI_API_KEY\") is not None"
   ]
  },
  {
   "cell_type": "code",
   "execution_count": 3,
   "metadata": {},
   "outputs": [],
   "source": [
    "from pathlib import Path\n",
    "\n",
    "docs_dir = Path(\n",
    "    \"/Users/f006pfk/Dropbox (Dartmouth College)/RR-workshop-data/federalist-papers/split\"\n",
    ")"
   ]
  },
  {
   "cell_type": "markdown",
   "metadata": {},
   "source": [
    "## Loading text documents\n"
   ]
  },
  {
   "cell_type": "code",
   "execution_count": 5,
   "metadata": {},
   "outputs": [
    {
     "name": "stdout",
     "output_type": "stream",
     "text": [
      " 1\n",
      "\n",
      "General Introduction\n",
      "\n",
      "For the Independent Journal. Saturday, October 27, 1787\n",
      "\n",
      "\n",
      "HAMILTON\n",
      "\n",
      "To the People of the State of New York:\n",
      "\n",
      "AFTER an unequivocal experience of the inefficacy of the subsisti\n"
     ]
    }
   ],
   "source": [
    "with open(docs_dir / \"federalist_1.txt\") as f:\n",
    "    doc = f.read()\n",
    "\n",
    "print(doc[:200])"
   ]
  },
  {
   "cell_type": "code",
   "execution_count": 17,
   "metadata": {},
   "outputs": [
    {
     "name": "stderr",
     "output_type": "stream",
     "text": [
      "100%|██████████| 86/86 [00:08<00:00, 10.47it/s]\n"
     ]
    }
   ],
   "source": [
    "from langchain.document_loaders import DirectoryLoader\n",
    "\n",
    "doc_loader = DirectoryLoader(docs_dir, show_progress=True)\n",
    "docs = doc_loader.load()"
   ]
  },
  {
   "cell_type": "markdown",
   "metadata": {},
   "source": [
    "## Stuffing\n"
   ]
  },
  {
   "cell_type": "code",
   "execution_count": 22,
   "metadata": {},
   "outputs": [],
   "source": [
    "from langchain.chat_models import ChatOpenAI\n",
    "\n",
    "llm = ChatOpenAI(model=\"gpt-3.5-turbo-16k\")"
   ]
  },
  {
   "cell_type": "code",
   "execution_count": 23,
   "metadata": {},
   "outputs": [
    {
     "name": "stdout",
     "output_type": "stream",
     "text": [
      "------------------------------\n",
      "In this text, James Madison discusses the powers granted to the government by the Constitution in two general points of view. The first point relates to the amount of power vested in the government and the restraints placed on the states. Madison questions whether any of the transferred powers are unnecessary or improper, and whether the total power is dangerous to the states. He argues that those who criticize the extensive powers of the government have not considered whether these powers are necessary means to achieve a necessary end. He also acknowledges that every power has the potential for abuse, but that this should not overshadow the public good that can come from the exercise of that power. \n",
      "\n",
      "Madison then discusses the powers granted to the government, divided into different classes. These include security against foreign danger, regulation of foreign intercourse, maintenance of harmony among the states, general utility, restraint of states from harmful acts, and provisions for giving efficacy to these powers. He argues that the power to declare war and raise armies and fleets is necessary for the defense of the nation, and that limiting this power would be imprudent. He also addresses the power to raise and borrow money, arguing that it is necessary for the national defense and should not be limited to taxes on imports. Madison concludes by stating that the Union is necessary for the protection of America's maritime strength and that disunion would lead to the same problems experienced in Europe. He also defends the power to tax, arguing that it is not unlimited and that the objections against it are based on a misconstruction of the Constitution.\n",
      "------------------------------\n",
      "The author, Hamilton, is discussing the proposed Executive branch of the government outlined in the plan of the convention. He begins by noting that the executive authority is mostly vested in a single magistrate, which he argues is not a valid comparison to the king of Great Britain, as there are many other rulers that also have a single executive authority. He then goes on to discuss the differences between the proposed Executive and the king of Great Britain, as well as the governor of New York. He points out that the President of the United States would have a term of four years and could be re-elected, unlike the hereditary monarch of Great Britain. He also notes that the President would be liable to be impeached and removed from office for high crimes or misdemeanors, whereas the person of the king of Great Britain is inviolable. \n",
      "\n",
      "Hamilton then compares the power of the President to that of the governor of New York, highlighting that the President's power in certain areas, such as pardons and adjourning the legislative branch, would be inferior to that of the governor. He also discusses the President's power in making treaties, stating that it would be difficult to determine whether the President would have more or less power than the governor of New York, except in the area of treaties. Hamilton argues that the power of appointment would be greater for the governor of New York than for the President, as the governor has a council to assist in the appointment process and can cast a deciding vote. \n",
      "\n",
      "In conclusion, Hamilton argues that there is no valid comparison between the proposed Executive and the king of Great Britain, as well as pointing out the differences between the President and the governor of New York. He asserts that the power of the President, overall, would be similar or less than that of the governor of New York.\n"
     ]
    }
   ],
   "source": [
    "for doc in docs[:3]:\n",
    "    print(\"-\" * 30)\n",
    "    print(\n",
    "        llm.predict(\"Summarize the following text in 200 words: \\n\" + doc.page_content)\n",
    "    )"
   ]
  },
  {
   "cell_type": "markdown",
   "metadata": {},
   "source": [
    "### Using a chain\n"
   ]
  },
  {
   "cell_type": "code",
   "execution_count": 27,
   "metadata": {},
   "outputs": [],
   "source": [
    "from langchain.chains.llm import LLMChain\n",
    "from langchain.prompts import PromptTemplate\n",
    "from langchain.chains.combine_documents.stuff import StuffDocumentsChain"
   ]
  },
  {
   "cell_type": "code",
   "execution_count": 40,
   "metadata": {},
   "outputs": [
    {
     "name": "stdout",
     "output_type": "stream",
     "text": [
      "This article discusses the number of representatives in the House of Representatives and addresses concerns about the smallness of the number. The author argues that the small number of representatives is not a danger to public liberty and that the people of America would not choose representatives who would betray their trust. The article also dismisses concerns about corruption from foreign gold or other branches of the federal government. The author concludes that the number of representatives proposed by the Constitution is sufficient to protect the liberties of America.\n"
     ]
    }
   ],
   "source": [
    "# Define prompt\n",
    "prompt_template = \"Write a concise summary of the following:{text}\"\n",
    "\n",
    "prompt = PromptTemplate.from_template(prompt_template)\n",
    "\n",
    "# Define LLM chain\n",
    "llm = ChatOpenAI(temperature=0, model_name=\"gpt-3.5-turbo-16k\")\n",
    "llm_chain = LLMChain(llm=llm, prompt=prompt)\n",
    "\n",
    "# Define StuffDocumentsChain\n",
    "stuff_chain = StuffDocumentsChain(llm_chain=llm_chain, document_variable_name=\"text\")\n",
    "\n",
    "print(stuff_chain.run(docs[:1]))"
   ]
  },
  {
   "cell_type": "markdown",
   "metadata": {},
   "source": [
    "### Convenience wrapper\n"
   ]
  },
  {
   "cell_type": "code",
   "execution_count": 39,
   "metadata": {},
   "outputs": [
    {
     "data": {
      "text/plain": [
       "'This article, written by James Madison in 1788, discusses the number of representatives in the House of Representatives and addresses concerns about the smallness of the number. Madison argues that the small number of representatives is not a threat to public liberty and that the people of America, as well as the state legislatures, would prevent any abuse of power. He also dismisses concerns about corruption from foreign influence or other branches of government. Madison concludes that the liberties of America are not at risk with the number of representatives proposed by the Constitution.'"
      ]
     },
     "execution_count": 39,
     "metadata": {},
     "output_type": "execute_result"
    }
   ],
   "source": [
    "from langchain.chains.summarize import load_summarize_chain\n",
    "\n",
    "chain = load_summarize_chain(llm=llm, chain_type=\"stuff\")\n",
    "\n",
    "chain.run(docs[:1])"
   ]
  },
  {
   "cell_type": "markdown",
   "metadata": {},
   "source": [
    "## Map-reduce\n"
   ]
  },
  {
   "cell_type": "code",
   "execution_count": 43,
   "metadata": {},
   "outputs": [],
   "source": [
    "from langchain.chains import ReduceDocumentsChain, MapReduceDocumentsChain"
   ]
  },
  {
   "cell_type": "code",
   "execution_count": 51,
   "metadata": {},
   "outputs": [],
   "source": [
    "# Map\n",
    "map_template = \"Write a concise summary of the following: {docs}\"\n",
    "map_prompt = PromptTemplate.from_template(map_template)\n",
    "map_chain = LLMChain(llm=llm, prompt=map_prompt)"
   ]
  },
  {
   "cell_type": "code",
   "execution_count": 52,
   "metadata": {},
   "outputs": [],
   "source": [
    "# Reduce\n",
    "reduce_template = \"Distill the following summaries into a final, consolidated summary of the main topics: {doc_summaries}\"\n",
    "reduce_prompt = PromptTemplate.from_template(reduce_template)\n",
    "reduce_chain = LLMChain(llm=llm, prompt=reduce_prompt)"
   ]
  },
  {
   "cell_type": "code",
   "execution_count": 53,
   "metadata": {},
   "outputs": [],
   "source": [
    "# Takes a list of documents, combines them into a single string, and passes this to an LLMChain\n",
    "combine_documents_chain = StuffDocumentsChain(\n",
    "    llm_chain=reduce_chain, document_variable_name=\"doc_summaries\"\n",
    ")"
   ]
  },
  {
   "cell_type": "code",
   "execution_count": 54,
   "metadata": {},
   "outputs": [],
   "source": [
    "# Combines and iteravely reduces the mapped documents\n",
    "reduce_documents_chain = ReduceDocumentsChain(\n",
    "    # This is final chain that is called.\n",
    "    combine_documents_chain=combine_documents_chain,\n",
    "    # If documents exceed context for `StuffDocumentsChain`\n",
    "    collapse_documents_chain=combine_documents_chain,\n",
    "    # The maximum number of tokens to group documents into.\n",
    "    token_max=4000,\n",
    ")"
   ]
  },
  {
   "cell_type": "code",
   "execution_count": 55,
   "metadata": {},
   "outputs": [],
   "source": [
    "# Combining documents by mapping a chain over them, then combining results\n",
    "map_reduce_chain = MapReduceDocumentsChain(\n",
    "    # Map chain\n",
    "    llm_chain=map_chain,\n",
    "    # Reduce chain\n",
    "    reduce_documents_chain=reduce_documents_chain,\n",
    "    # The variable name in the llm_chain to put the documents in\n",
    "    document_variable_name=\"docs\",\n",
    "    # Return the results of the map steps in the output\n",
    "    return_intermediate_steps=False,\n",
    ")"
   ]
  },
  {
   "cell_type": "code",
   "execution_count": 57,
   "metadata": {},
   "outputs": [
    {
     "name": "stdout",
     "output_type": "stream",
     "text": [
      "This consolidated summary covers various topics discussed in the given articles. It addresses concerns about the number of representatives in the House of Representatives, arguing that the small number is not a danger to public liberty. The importance and necessity of the powers conferred by the Constitution are defended, including the power to declare war, raise armies, and regulate interstate relations. The executive authority of the President is compared to that of a king, concluding that claims of excessive power are unfounded. The judiciary department and the role of State courts are discussed, emphasizing the need for collaboration with federal courts. The lack of a constitutional provision for trial by jury in civil cases is addressed, arguing that it is not essential to liberty. The mode of electing the President is examined, with the current system being praised for its representation of the people and minimizing corruption. The authority of the convention to propose a mixed Constitution is analyzed and justified. The apportionment of members in the House of Representatives is discussed, advocating for representation based on population and wealth. The powers conferred by the Constitution that regulate intercourse with foreign nations are explained, highlighting their necessity for effective interaction and unity. Finally, the objection that the House of Representatives will be too small is addressed, arguing that a moderate number of representatives would be competent guardians of the people's interests.\n"
     ]
    }
   ],
   "source": [
    "print(map_reduce_chain.run(docs[:10]))"
   ]
  }
 ],
 "metadata": {
  "kernelspec": {
   "display_name": ".env",
   "language": "python",
   "name": "python3"
  },
  "language_info": {
   "codemirror_mode": {
    "name": "ipython",
    "version": 3
   },
   "file_extension": ".py",
   "mimetype": "text/x-python",
   "name": "python",
   "nbconvert_exporter": "python",
   "pygments_lexer": "ipython3",
   "version": "3.11.4"
  }
 },
 "nbformat": 4,
 "nbformat_minor": 2
}
